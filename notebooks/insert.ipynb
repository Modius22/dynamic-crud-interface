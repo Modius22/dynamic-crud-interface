{
 "cells": [
  {
   "cell_type": "code",
   "execution_count": 5,
   "metadata": {},
   "outputs": [],
   "source": [
    "import sys\n",
    "sys.path.append(\"/workspace/src\")\n",
    "import sqlalchemy\n",
    "import helpers.db as db\n",
    "from sqlalchemy import insert\n"
   ]
  },
  {
   "cell_type": "code",
   "execution_count": 2,
   "metadata": {},
   "outputs": [],
   "source": [
    "db = db.DB(path='/workspace/src/')"
   ]
  },
  {
   "cell_type": "code",
   "execution_count": 4,
   "metadata": {},
   "outputs": [
    {
     "name": "stdout",
     "output_type": "stream",
     "text": [
      "key: ID - value:BIGINT\n",
      "key: post_author - value:BIGINT\n",
      "key: post_date - value:DATETIME\n",
      "key: post_date_gmt - value:DATETIME\n",
      "key: post_content - value:LONGTEXT\n",
      "key: post_title - value:TEXT COLLATE \"utf8mb4_unicode_520_ci\"\n",
      "key: post_excerpt - value:TEXT COLLATE \"utf8mb4_unicode_520_ci\"\n",
      "key: post_status - value:VARCHAR(20) COLLATE \"utf8mb4_unicode_520_ci\"\n",
      "key: comment_status - value:VARCHAR(20) COLLATE \"utf8mb4_unicode_520_ci\"\n",
      "key: ping_status - value:VARCHAR(20) COLLATE \"utf8mb4_unicode_520_ci\"\n",
      "key: post_password - value:VARCHAR(255) COLLATE \"utf8mb4_unicode_520_ci\"\n",
      "key: post_name - value:VARCHAR(200) COLLATE \"utf8mb4_unicode_520_ci\"\n",
      "key: to_ping - value:TEXT COLLATE \"utf8mb4_unicode_520_ci\"\n",
      "key: pinged - value:TEXT COLLATE \"utf8mb4_unicode_520_ci\"\n",
      "key: post_modified - value:DATETIME\n",
      "key: post_modified_gmt - value:DATETIME\n",
      "key: post_content_filtered - value:LONGTEXT\n",
      "key: post_parent - value:BIGINT\n",
      "key: guid - value:VARCHAR(255) COLLATE \"utf8mb4_unicode_520_ci\"\n",
      "key: menu_order - value:INTEGER\n",
      "key: post_type - value:VARCHAR(20) COLLATE \"utf8mb4_unicode_520_ci\"\n",
      "key: post_mime_type - value:VARCHAR(100) COLLATE \"utf8mb4_unicode_520_ci\"\n",
      "key: comment_count - value:BIGINT\n"
     ]
    }
   ],
   "source": [
    "tables = db.get_table_names()\n",
    "structure = db.get_table_columns('wp_posts')"
   ]
  },
  {
   "cell_type": "code",
   "execution_count": 7,
   "metadata": {},
   "outputs": [
    {
     "ename": "ArgumentError",
     "evalue": "subject table for an INSERT, UPDATE or DELETE expected, got 'wp_posts'.",
     "output_type": "error",
     "traceback": [
      "\u001b[0;31m---------------------------------------------------------------------------\u001b[0m",
      "\u001b[0;31mArgumentError\u001b[0m                             Traceback (most recent call last)",
      "Cell \u001b[0;32mIn[7], line 1\u001b[0m\n\u001b[0;32m----> 1\u001b[0m stmt \u001b[39m=\u001b[39m insert(\u001b[39m'\u001b[39;49m\u001b[39mwp_posts\u001b[39;49m\u001b[39m'\u001b[39;49m)\u001b[39m.\u001b[39mvalues(post_author\u001b[39m=\u001b[39m\u001b[39m\"\u001b[39m\u001b[39mChristian\u001b[39m\u001b[39m\"\u001b[39m, post_title\u001b[39m=\u001b[39m\u001b[39m\"\u001b[39m\u001b[39mThis is a test\u001b[39m\u001b[39m\"\u001b[39m)\n",
      "File \u001b[0;32m<string>:2\u001b[0m, in \u001b[0;36minsert\u001b[0;34m(table, values, inline, bind, prefixes, returning, return_defaults, **dialect_kw)\u001b[0m\n",
      "File \u001b[0;32m<string>:2\u001b[0m, in \u001b[0;36m__init__\u001b[0;34m(self, table, values, inline, bind, prefixes, returning, return_defaults, **dialect_kw)\u001b[0m\n",
      "File \u001b[0;32m/usr/local/lib/python3.9/site-packages/sqlalchemy/util/deprecations.py:309\u001b[0m, in \u001b[0;36mdeprecated_params.<locals>.decorate.<locals>.warned\u001b[0;34m(fn, *args, **kwargs)\u001b[0m\n\u001b[1;32m    302\u001b[0m     \u001b[39mif\u001b[39;00m m \u001b[39min\u001b[39;00m kwargs:\n\u001b[1;32m    303\u001b[0m         _warn_with_version(\n\u001b[1;32m    304\u001b[0m             messages[m],\n\u001b[1;32m    305\u001b[0m             versions[m],\n\u001b[1;32m    306\u001b[0m             version_warnings[m],\n\u001b[1;32m    307\u001b[0m             stacklevel\u001b[39m=\u001b[39m\u001b[39m3\u001b[39m,\n\u001b[1;32m    308\u001b[0m         )\n\u001b[0;32m--> 309\u001b[0m \u001b[39mreturn\u001b[39;00m fn(\u001b[39m*\u001b[39;49margs, \u001b[39m*\u001b[39;49m\u001b[39m*\u001b[39;49mkwargs)\n",
      "File \u001b[0;32m/usr/local/lib/python3.9/site-packages/sqlalchemy/sql/dml.py:1026\u001b[0m, in \u001b[0;36mInsert.__init__\u001b[0;34m(self, table, values, inline, bind, prefixes, returning, return_defaults, **dialect_kw)\u001b[0m\n\u001b[1;32m    937\u001b[0m \u001b[39m@ValuesBase\u001b[39m\u001b[39m.\u001b[39m_constructor_20_deprecations(\n\u001b[1;32m    938\u001b[0m     \u001b[39m\"\u001b[39m\u001b[39minsert\u001b[39m\u001b[39m\"\u001b[39m,\n\u001b[1;32m    939\u001b[0m     \u001b[39m\"\u001b[39m\u001b[39mInsert\u001b[39m\u001b[39m\"\u001b[39m,\n\u001b[0;32m   (...)\u001b[0m\n\u001b[1;32m    958\u001b[0m     \u001b[39m*\u001b[39m\u001b[39m*\u001b[39mdialect_kw\n\u001b[1;32m    959\u001b[0m ):\n\u001b[1;32m    960\u001b[0m \u001b[39m    \u001b[39m\u001b[39m\"\"\"Construct an :class:`_expression.Insert` object.\u001b[39;00m\n\u001b[1;32m    961\u001b[0m \n\u001b[1;32m    962\u001b[0m \u001b[39m    E.g.::\u001b[39;00m\n\u001b[0;32m   (...)\u001b[0m\n\u001b[1;32m   1024\u001b[0m \n\u001b[1;32m   1025\u001b[0m \u001b[39m    \"\"\"\u001b[39;00m\n\u001b[0;32m-> 1026\u001b[0m     \u001b[39msuper\u001b[39;49m(Insert, \u001b[39mself\u001b[39;49m)\u001b[39m.\u001b[39;49m\u001b[39m__init__\u001b[39;49m(table, values, prefixes)\n\u001b[1;32m   1027\u001b[0m     \u001b[39mself\u001b[39m\u001b[39m.\u001b[39m_bind \u001b[39m=\u001b[39m bind\n\u001b[1;32m   1028\u001b[0m     \u001b[39mself\u001b[39m\u001b[39m.\u001b[39m_inline \u001b[39m=\u001b[39m inline\n",
      "File \u001b[0;32m/usr/local/lib/python3.9/site-packages/sqlalchemy/sql/dml.py:607\u001b[0m, in \u001b[0;36mValuesBase.__init__\u001b[0;34m(self, table, values, prefixes)\u001b[0m\n\u001b[1;32m    606\u001b[0m \u001b[39mdef\u001b[39;00m \u001b[39m__init__\u001b[39m(\u001b[39mself\u001b[39m, table, values, prefixes):\n\u001b[0;32m--> 607\u001b[0m     \u001b[39mself\u001b[39m\u001b[39m.\u001b[39mtable \u001b[39m=\u001b[39m coercions\u001b[39m.\u001b[39;49mexpect(\n\u001b[1;32m    608\u001b[0m         roles\u001b[39m.\u001b[39;49mDMLTableRole, table, apply_propagate_attrs\u001b[39m=\u001b[39;49m\u001b[39mself\u001b[39;49m\n\u001b[1;32m    609\u001b[0m     )\n\u001b[1;32m    610\u001b[0m     \u001b[39mif\u001b[39;00m values \u001b[39mis\u001b[39;00m \u001b[39mnot\u001b[39;00m \u001b[39mNone\u001b[39;00m:\n\u001b[1;32m    611\u001b[0m         \u001b[39mself\u001b[39m\u001b[39m.\u001b[39mvalues\u001b[39m.\u001b[39mnon_generative(\u001b[39mself\u001b[39m, values)\n",
      "File \u001b[0;32m/usr/local/lib/python3.9/site-packages/sqlalchemy/sql/coercions.py:188\u001b[0m, in \u001b[0;36mexpect\u001b[0;34m(role, element, apply_propagate_attrs, argname, post_inspect, **kw)\u001b[0m\n\u001b[1;32m    185\u001b[0m                 impl\u001b[39m.\u001b[39m_raise_for_expected(original_element, argname)\n\u001b[1;32m    187\u001b[0m     \u001b[39mif\u001b[39;00m resolved \u001b[39mis\u001b[39;00m \u001b[39mNone\u001b[39;00m:\n\u001b[0;32m--> 188\u001b[0m         resolved \u001b[39m=\u001b[39m impl\u001b[39m.\u001b[39;49m_literal_coercion(\n\u001b[1;32m    189\u001b[0m             element, argname\u001b[39m=\u001b[39;49margname, \u001b[39m*\u001b[39;49m\u001b[39m*\u001b[39;49mkw\n\u001b[1;32m    190\u001b[0m         )\n\u001b[1;32m    191\u001b[0m \u001b[39melse\u001b[39;00m:\n\u001b[1;32m    192\u001b[0m     resolved \u001b[39m=\u001b[39m element\n",
      "File \u001b[0;32m/usr/local/lib/python3.9/site-packages/sqlalchemy/sql/coercions.py:371\u001b[0m, in \u001b[0;36m_NoTextCoercion._literal_coercion\u001b[0;34m(self, element, argname, **kw)\u001b[0m\n\u001b[1;32m    369\u001b[0m     _no_text_coercion(element, argname)\n\u001b[1;32m    370\u001b[0m \u001b[39melse\u001b[39;00m:\n\u001b[0;32m--> 371\u001b[0m     \u001b[39mself\u001b[39;49m\u001b[39m.\u001b[39;49m_raise_for_expected(element, argname)\n",
      "File \u001b[0;32m/usr/local/lib/python3.9/site-packages/sqlalchemy/sql/coercions.py:437\u001b[0m, in \u001b[0;36m_SelectIsNotFrom._raise_for_expected\u001b[0;34m(self, element, argname, resolved, **kw)\u001b[0m\n\u001b[1;32m    434\u001b[0m \u001b[39melse\u001b[39;00m:\n\u001b[1;32m    435\u001b[0m     advice \u001b[39m=\u001b[39m code \u001b[39m=\u001b[39m \u001b[39mNone\u001b[39;00m\n\u001b[0;32m--> 437\u001b[0m \u001b[39mreturn\u001b[39;00m \u001b[39msuper\u001b[39;49m(_SelectIsNotFrom, \u001b[39mself\u001b[39;49m)\u001b[39m.\u001b[39;49m_raise_for_expected(\n\u001b[1;32m    438\u001b[0m     element,\n\u001b[1;32m    439\u001b[0m     argname\u001b[39m=\u001b[39;49margname,\n\u001b[1;32m    440\u001b[0m     resolved\u001b[39m=\u001b[39;49mresolved,\n\u001b[1;32m    441\u001b[0m     advice\u001b[39m=\u001b[39;49madvice,\n\u001b[1;32m    442\u001b[0m     code\u001b[39m=\u001b[39;49mcode,\n\u001b[1;32m    443\u001b[0m     \u001b[39m*\u001b[39;49m\u001b[39m*\u001b[39;49mkw\n\u001b[1;32m    444\u001b[0m )\n",
      "File \u001b[0;32m/usr/local/lib/python3.9/site-packages/sqlalchemy/sql/coercions.py:283\u001b[0m, in \u001b[0;36mRoleImpl._raise_for_expected\u001b[0;34m(self, element, argname, resolved, advice, code, err)\u001b[0m\n\u001b[1;32m    280\u001b[0m \u001b[39mif\u001b[39;00m advice:\n\u001b[1;32m    281\u001b[0m     msg \u001b[39m+\u001b[39m\u001b[39m=\u001b[39m \u001b[39m\"\u001b[39m\u001b[39m \u001b[39m\u001b[39m\"\u001b[39m \u001b[39m+\u001b[39m advice\n\u001b[0;32m--> 283\u001b[0m util\u001b[39m.\u001b[39;49mraise_(exc\u001b[39m.\u001b[39;49mArgumentError(msg, code\u001b[39m=\u001b[39;49mcode), replace_context\u001b[39m=\u001b[39;49merr)\n",
      "File \u001b[0;32m/usr/local/lib/python3.9/site-packages/sqlalchemy/util/compat.py:208\u001b[0m, in \u001b[0;36mraise_\u001b[0;34m(***failed resolving arguments***)\u001b[0m\n\u001b[1;32m    205\u001b[0m     exception\u001b[39m.\u001b[39m__cause__ \u001b[39m=\u001b[39m replace_context\n\u001b[1;32m    207\u001b[0m \u001b[39mtry\u001b[39;00m:\n\u001b[0;32m--> 208\u001b[0m     \u001b[39mraise\u001b[39;00m exception\n\u001b[1;32m    209\u001b[0m \u001b[39mfinally\u001b[39;00m:\n\u001b[1;32m    210\u001b[0m     \u001b[39m# credit to\u001b[39;00m\n\u001b[1;32m    211\u001b[0m     \u001b[39m# https://cosmicpercolator.com/2016/01/13/exception-leaks-in-python-2-and-3/\u001b[39;00m\n\u001b[1;32m    212\u001b[0m     \u001b[39m# as the __traceback__ object creates a cycle\u001b[39;00m\n\u001b[1;32m    213\u001b[0m     \u001b[39mdel\u001b[39;00m exception, replace_context, from_, with_traceback\n",
      "\u001b[0;31mArgumentError\u001b[0m: subject table for an INSERT, UPDATE or DELETE expected, got 'wp_posts'."
     ]
    }
   ],
   "source": [
    "from sqlalchemy import Table\n",
    "from sqlalchemy.ext.declarative import declarative_base\n",
    "\n",
    "Base = declarative_base()\n",
    "class MyClass(Base):\n",
    "    __table__ = Table('mytable', Base.metadata,\n",
    "                    autoload=True, autoload_with=some_engine)"
   ]
  },
  {
   "cell_type": "code",
   "execution_count": null,
   "metadata": {},
   "outputs": [],
   "source": [
    "compiled = stmt.compile()"
   ]
  }
 ],
 "metadata": {
  "kernelspec": {
   "display_name": "Python 3",
   "language": "python",
   "name": "python3"
  },
  "language_info": {
   "codemirror_mode": {
    "name": "ipython",
    "version": 3
   },
   "file_extension": ".py",
   "mimetype": "text/x-python",
   "name": "python",
   "nbconvert_exporter": "python",
   "pygments_lexer": "ipython3",
   "version": "3.9.16"
  },
  "orig_nbformat": 4
 },
 "nbformat": 4,
 "nbformat_minor": 2
}
